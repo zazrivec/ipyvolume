{
 "cells": [
  {
   "cell_type": "markdown",
   "id": "63b357e0",
   "metadata": {},
   "source": [
    "Virtual reality\n",
    "===============\n",
    "\n",
    "Ipyvolume can render in stereo, and go fullscreen (not supported for iOS). Together with `Google Cardboard <https://vr.google.com/cardboard/>`_ or other VR glasses (I am using VR Box 2) this enables virtual reality visualisation. Since mobile devices are usually less powerful, the example below is rendered at low resolution to enable a reasonable framerate on all devices.\n",
    "\n",
    "Open this page on your mobile device, enter fullscreen mode and put on your glasses, looking around will rotate the object to improve depth perception.\n"
   ]
  },
  {
   "cell_type": "code",
   "execution_count": null,
   "id": "0a65f2be",
   "metadata": {},
   "outputs": [],
   "source": [
    "import ipyvolume as ipv\n",
    "aqa2 = ipv.datasets.aquariusA2.fetch()\n",
    "fig = ipv.figure(width=256, height=256)\n",
    "fig.orientation_control = True  # listen to the device changing orientation when you move your head\n",
    "ipv.volshow(aqa2.data.T, lighting=True, level=[0.16, 0.25, 0.46],\n",
    "                 stereo=True, opacity=0.06)\n",
    "ipv.show()"
   ]
  }
 ],
 "metadata": {
  "kernelspec": {
   "display_name": "Python 3 (ipykernel)",
   "language": "python",
   "name": "python3"
  },
  "language_info": {
   "codemirror_mode": {
    "name": "ipython",
    "version": 3
   },
   "file_extension": ".py",
   "mimetype": "text/x-python",
   "name": "python",
   "nbconvert_exporter": "python",
   "pygments_lexer": "ipython3",
   "version": "3.7.10"
  }
 },
 "nbformat": 4,
 "nbformat_minor": 5
}

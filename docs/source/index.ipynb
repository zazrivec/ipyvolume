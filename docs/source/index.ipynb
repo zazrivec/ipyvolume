{
 "cells": [
  {
   "cell_type": "markdown",
   "id": "d611d480",
   "metadata": {
    "nbsphinx-toctree": {
     "hidden": true
    }
   },
   "source": [
    "[Installation](install.md)\n",
    "[Examples](examples.rst)\n",
    "[API](api.rst)\n",
    "[VR](vr.md)\n",
    "[pythreejs](pythreejs.ipynb)"
   ]
  },
  {
   "cell_type": "markdown",
   "id": "c4bcd1e6",
   "metadata": {},
   "source": [
    "# Ipyvolume\n",
    "\n",
    "IPyvolume is a Python library to visualize 3d volumes and glyphs (e.g.\n",
    "3d scatter plots), in the Jupyter notebook, with minimal configuration\n",
    "and effort. It is currently pre-1.0, so use at own risk. IPyvolume's\n",
    "*volshow* is to 3d arrays what matplotlib's imshow is to 2d arrays.\n",
    "\n",
    "Other (more mature but possibly more difficult to use) related packages\n",
    "are [yt](http://yt-project.org/), [VTK](https://www.vtk.org) and/or\n",
    "[Mayavi](http://docs.enthought.com/mayavi/mayavi/).\n",
    "\n",
    "Feedback and contributions are welcome:\n",
    "[Github](https://github.com/maartenbreddels/ipyvolume),\n",
    "[Email](mailto:maartenbreddels@gmail.com) or\n",
    "[Twitter](https://twitter.com/maartenbreddels).\n",
    "—"
   ]
  },
  {
   "cell_type": "markdown",
   "id": "87ee6327",
   "metadata": {},
   "source": [
    "## Quick intro\n",
    "\n",
    "### Volume\n",
    "\n",
    "For quick resuls, use `ipyvolume.widgets.quickvolshow`. From a numpy\n",
    "array, we create two boxes, using slicing, and visualize it."
   ]
  },
  {
   "cell_type": "code",
   "execution_count": null,
   "id": "882a411e",
   "metadata": {},
   "outputs": [],
   "source": [
    "import numpy as np\n",
    "import ipyvolume as ipv\n",
    "V = np.zeros((128,128,128)) # our 3d array\n",
    "# outer box\n",
    "V[30:-30,30:-30,30:-30] = 0.75\n",
    "V[35:-35,35:-35,35:-35] = 0.0\n",
    "# inner box\n",
    "V[50:-50,50:-50,50:-50] = 0.25\n",
    "V[55:-55,55:-55,55:-55] = 0.0\n",
    "ipv.quickvolshow(V, level=[0.25, 0.75], opacity=0.03, level_width=0.1, data_min=0, data_max=1)"
   ]
  },
  {
   "cell_type": "markdown",
   "id": "ccca4302",
   "metadata": {},
   "source": [
    "### Scatter plot\n",
    "\n",
    "Simple scatter plots are also supported."
   ]
  },
  {
   "cell_type": "code",
   "execution_count": null,
   "id": "8304cce5",
   "metadata": {},
   "outputs": [],
   "source": [
    "import ipyvolume as ipv\n",
    "import numpy as np\n",
    "x, y, z = np.random.random((3, 10000))\n",
    "ipv.quickscatter(x, y, z, size=1, marker=\"sphere\")"
   ]
  },
  {
   "cell_type": "markdown",
   "id": "1611d700",
   "metadata": {},
   "source": [
    "### Quiver plot\n",
    "\n",
    "Quiver plots are also supported, showing a vector at each point."
   ]
  },
  {
   "cell_type": "code",
   "execution_count": null,
   "id": "b5576e21",
   "metadata": {},
   "outputs": [],
   "source": [
    "import ipyvolume as ipv\n",
    "import numpy as np\n",
    "x, y, z, u, v, w = np.random.random((6, 1000))*2-1\n",
    "ipv.quickquiver(x, y, z, u, v, w, size=5)"
   ]
  },
  {
   "cell_type": "markdown",
   "id": "a5f08daa",
   "metadata": {},
   "source": [
    "### Mesh plot\n",
    "\n",
    "And surface/mesh plots, showing surfaces or wireframes."
   ]
  },
  {
   "cell_type": "code",
   "execution_count": null,
   "id": "406a8f86",
   "metadata": {},
   "outputs": [],
   "source": [
    "import ipyvolume as ipv\n",
    "x, y, z, u, v = ipv.examples.klein_bottle(draw=False)\n",
    "ipv.figure()\n",
    "m = ipv.plot_mesh(x, y, z, wireframe=False)\n",
    "ipv.squarelim()\n",
    "ipv.show()"
   ]
  },
  {
   "cell_type": "markdown",
   "id": "aa5fee9e",
   "metadata": {},
   "source": [
    "### Built on Ipywidgets\n",
    "\n",
    "For anything more sophisticated, use `ipyvolume.pylab`, ipyvolume's copy\n",
    "of matplotlib's 3d plotting (+ volume rendering).\n",
    "\n",
    "Since ipyvolume is built on\n",
    "[ipywidgets](http://ipywidgets.readthedocs.io/), we can link widget's\n",
    "properties."
   ]
  },
  {
   "cell_type": "code",
   "execution_count": null,
   "id": "1c45f34e",
   "metadata": {},
   "outputs": [],
   "source": [
    "import ipyvolume as ipv\n",
    "import numpy as np\n",
    "x, y, z, u, v, w = np.random.random((6, 1000))*2-1\n",
    "selected = np.random.randint(0, 1000, 100)\n",
    "ipv.figure()\n",
    "quiver = ipv.quiver(x, y, z, u, v, w, size=5, size_selected=8, selected=selected)\n",
    "\n",
    "from ipywidgets import FloatSlider, ColorPicker, VBox, jslink\n",
    "size = FloatSlider(min=0, max=30, step=0.1)\n",
    "size_selected = FloatSlider(min=0, max=30, step=0.1)\n",
    "color = ColorPicker()\n",
    "color_selected = ColorPicker()\n",
    "jslink((quiver, 'size'), (size, 'value'))\n",
    "jslink((quiver, 'size_selected'), (size_selected, 'value'))\n",
    "jslink((quiver, 'color'), (color, 'value'))\n",
    "jslink((quiver, 'color_selected'), (color_selected, 'value'))\n",
    "VBox([ipv.gcc(), size, size_selected, color, color_selected])"
   ]
  },
  {
   "cell_type": "markdown",
   "id": "0e8fde9f",
   "metadata": {},
   "source": [
    "Try changing the slider to the change the size of the vectors, or the\n",
    "colors.\n",
    "\n",
    "## Quick installation\n",
    "\n",
    "This will most likely work, otherwise read [install](install.ipynb)\n",
    "```\n",
    "pip install ipyvolume\n",
    "jupyter nbextension enable --py --sys-prefix ipyvolume\n",
    "jupyter nbextension enable --py --sys-prefix widgetsnbextension\n",
    "```"
   ]
  },
  {
   "cell_type": "markdown",
   "id": "95e866f7",
   "metadata": {},
   "source": [
    "For conda/anaconda, use:"
   ]
  },
  {
   "cell_type": "markdown",
   "id": "e950f47c",
   "metadata": {},
   "source": [
    "conda install -c conda-forge ipyvolume"
   ]
  },
  {
   "cell_type": "markdown",
   "id": "d40e5c2d",
   "metadata": {},
   "source": [
    "## About\n",
    "\n",
    "Ipyvolume is an offspring project from\n",
    "[vaex](http://vaex.astro.rug.nl/). Ipyvolume makes use of\n",
    "[threejs](https://threejs.org/), an excellent Javascript library for\n",
    "OpenGL/WebGL rendering.\n",
    "\n",
    "## Contents\n",
    "\n",
    "<div class=\"toctree\" maxdepth=\"2\">\n",
    "\n",
    "install examples api vr pythreejs\n",
    "\n",
    "</div>\n",
    "\n",
    "## Changelog\n",
    "\n",
    "> -   0.5\n",
    ">     -   New\n",
    ">\n",
    ">         -   Volume is now its own widget, allowing multivolume\n",
    ">             rendering\n",
    ">\n",
    ">         \\* Depth aware zooming (Hold Alt key, or toggle in menu) and zoom into any object or volume rendering  \n",
    ">         -   double click centers that point\n",
    ">\n",
    ">         -   Configurable ray steps for volume rendering\n",
    ">             (Volume.ray_steps)\n",
    ">         -   Better transparency support, premultiplied colors used\n",
    ">             consistently, colors can now be of shape $(..., 3 or 4)$\n",
    ">             to allow alpha channel (note: no proper rendering yet,\n",
    ">             this is a difficult problem).\n",
    ">         -   Panoramic modes: 180 and 360 degrees for dome projection\n",
    ">             or VR video creations.\n",
    ">         -   Maximum intensity volume rendering.\n",
    ">         -   Progressive loading of large volumetric cubes.\n",
    ">         -   ipyvolume.moviemaker: simple UI for making movies, and\n",
    ">             keyframes settings for the camera.\n",
    ">         -   ipyvolume.astro: (experiment) as domain specific module\n",
    ">             for astronomy.\n",
    ">         -   New example male head volume rendering\n",
    ">             `ipyvolume.examples.head`\n",
    ">\n",
    ">     -   Changes\n",
    ">\n",
    ">         -   100x faster mesh generation\n",
    ">         -   Fixes/improvements for headless rendering\n",
    ">         -   Selection method in the kernel, see\n",
    ">             `ipyvolume.pylab.selector_default`.\n",
    ">         -   Fixed memory leak issues in the browser\n",
    ">         -   Scatter supports 2d sprites,see `ipyvolume.pylab.scatter`.\n",
    ">         -   Pythreejs integration, Camera, Scene and ShaderMaterial\n",
    ">             are now exposed.\n",
    ">         -   'sphere' marker was double the size as the others, now\n",
    ">             halved in size/\n",
    ">         -   `ipyvolume.pylab.view` can control distance, and returns\n",
    ">             currents values.\n",
    ">\n",
    ">     -   New contributors\n",
    ">\n",
    ">         -   Casper van Leeuwen\n",
    ">         -   Oleh Kozynets\n",
    ">         -   Oliver Evans\n",
    ">         -   Jean-Rémi KING\n",
    ">         -   Mathieu Carette\n",
    ">         -   Saul (saulthu)\n",
    ">         -   Timo Friedri\n",
    ">         -   WANG Aiyong\n",
    ">         -   mpu-creare\n",
    ">         -   xavArtley\n",
    ">         -   Eric Larson\n",
    ">         -   Hans Moritz Günther\n",
    ">         -   Jackie Leng\n",
    "> -   0.4\n",
    ">     -   plotting\n",
    ">         -   lines\n",
    ">         -   wireframes\n",
    ">         -   meshes/surfaces\n",
    ">         -   isosurfaces\n",
    ">         -   texture (animated) support, gif image and MediaStream\n",
    ">             (movie, camera, canvas)\n",
    ">     -   camera control (angles from the python side), FoV\n",
    ">     -   movie creation\n",
    ">     -   eye separation for VR\n",
    ">     -   better screenshot support (can be to a PIL Image), and higher\n",
    ">         resolution possible\n",
    ">     -   mouse lasso (a bit rough), selections can be made from the\n",
    ">         Python side.\n",
    ">     -   icon bar for common operations (fullscreen, stereo,\n",
    ">         screenshot, reset etc)\n",
    ">     -   offline support for embedding/saving to html\n",
    ">     -   Jupyter lab support\n",
    ">     -   New contributors\n",
    ">         -   Chris Sewell\n",
    ">         -   Satrajit Ghosh\n",
    ">         -   Sylvain Corlay\n",
    ">         -   stonebig\n",
    ">         -   Matt McCormick\n",
    ">         -   Jean Michel Arbona\n",
    "> -   0.3\n",
    ">     -   new\n",
    ">         -   axis with labels and ticklabels\n",
    ">         -   styling\n",
    ">         -   animation (credits also to <https://github.com/jeammimi>)\n",
    ">         -   binary transfers\n",
    ">         -   default camera control is trackball\n",
    ">     -   changed\n",
    ">         -   s and ss are now spelled out, size and size_selected\n"
   ]
  }
 ],
 "metadata": {
  "celltoolbar": "Edit Metadata",
  "kernelspec": {
   "display_name": "Python 3 (ipykernel)",
   "language": "python",
   "name": "python3"
  },
  "language_info": {
   "codemirror_mode": {
    "name": "ipython",
    "version": 3
   },
   "file_extension": ".py",
   "mimetype": "text/x-python",
   "name": "python",
   "nbconvert_exporter": "python",
   "pygments_lexer": "ipython3",
   "version": "3.7.10"
  }
 },
 "nbformat": 4,
 "nbformat_minor": 5
}

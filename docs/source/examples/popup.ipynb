{
 "cells": [
  {
   "cell_type": "markdown",
   "id": "06263371",
   "metadata": {},
   "source": [
    "# Popups\n",
    "Ipyvolume has the option to show a popup widgets when hovering above a mark. When hovering, the widget will be shown near the mouse position, and it's `value` attribute will be set to the index of the mark hovered above (e.g. when you have 12 points, value will be between 0 and 11). Also, the description will be set to the description of the scatter object. These two attributes are used in the ipywidget `IntText` and thus can be used as a popop widget:"
   ]
  },
  {
   "cell_type": "code",
   "execution_count": null,
   "id": "62301dda",
   "metadata": {},
   "outputs": [],
   "source": [
    "import ipyvolume as ipv\n",
    "import ipywidgets as widgets\n",
    "f = ipv.figure()\n",
    "scatter = ipv.examples.gaussian(show=False, description=\"Blob\")\n",
    "scatter.popup = widgets.IntText()\n",
    "ipv.show()"
   ]
  },
  {
   "cell_type": "markdown",
   "id": "ce7c1f57",
   "metadata": {},
   "source": [
    "While sufficient, ipyvolume also comes with a custom dedicated Popup widget, build using the [ipyvuetify](https://github.com/mariobuikhuizen/ipyvuetify) library. This popup will also show a nice icon (see https://materialdesignicons.com/) and the color used."
   ]
  },
  {
   "cell_type": "code",
   "execution_count": null,
   "id": "f5684a99",
   "metadata": {},
   "outputs": [],
   "source": [
    "import ipyvolume as ipv\n",
    "import ipywidgets as widgets\n",
    "f = ipv.figure()\n",
    "scatter = ipv.examples.gaussian(show=False,\n",
    "                                description=\"Blob\",\n",
    "                                description_color=\"#CC0000\",\n",
    "                                icon='mdi-star-four-points')\n",
    "scatter.popup = ipv.ui.Popup()\n",
    "ipv.show()"
   ]
  },
  {
   "cell_type": "markdown",
   "id": "d415989d",
   "metadata": {},
   "source": [
    "Note that while hovering, the scatter attributes `hovered` (a boolean indicates you are hovering above a mark) and `hovered_index`, which mark you are hovering above, are set, and can be linked to other widgets."
   ]
  },
  {
   "cell_type": "code",
   "execution_count": null,
   "id": "4953b69f",
   "metadata": {},
   "outputs": [],
   "source": [
    "widget_hovered = widgets.Valid(description=\"Hovering\", readout=\"-\")\n",
    "widget_hovered_index = widgets.Text(description=\"Hovered on\")\n",
    "widgets.jsdlink((scatter, 'hovered'), (widget_hovered, 'value'))\n",
    "widgets.jsdlink((scatter, 'hovered_index'), (widget_hovered_index, 'value'))\n",
    "widgets.HBox([widget_hovered, widget_hovered_index])"
   ]
  },
  {
   "cell_type": "code",
   "execution_count": null,
   "id": "2cf02a3b",
   "metadata": {},
   "outputs": [],
   "source": [
    "# workaround for vaex, which has special behaviour on read the docs\n",
    "import os\n",
    "key = \"READTHEDOCS\"\n",
    "if key in os.environ:\n",
    "    del os.environ[key]"
   ]
  },
  {
   "cell_type": "code",
   "execution_count": null,
   "id": "6242d8db",
   "metadata": {},
   "outputs": [],
   "source": [
    "import ipyvolume as ipv\n",
    "import vaex.ml"
   ]
  },
  {
   "cell_type": "code",
   "execution_count": null,
   "id": "fda80232",
   "metadata": {},
   "outputs": [],
   "source": [
    "df = vaex.ml.datasets.load_iris()\n",
    "df"
   ]
  },
  {
   "cell_type": "code",
   "execution_count": null,
   "id": "ec90bcbb",
   "metadata": {},
   "outputs": [],
   "source": [
    "import ipywidgets as widgets\n",
    "int_widget = widgets.IntText(description=\"index\", value=2)\n",
    "int_widget"
   ]
  },
  {
   "cell_type": "code",
   "execution_count": null,
   "id": "f1d43ce6",
   "metadata": {},
   "outputs": [],
   "source": [
    "import traitlets\n",
    "\n",
    "# Custom popup showing a url to wikipedia\n",
    "class MyPopup(ipv.ui.Popup):\n",
    "    # the event handler will fill this in\n",
    "    template_file = None # disable the loading from file\n",
    "    url = traitlets.Unicode('').tag(sync=True)\n",
    "    @traitlets.default(\"template\")\n",
    "    def _default_template(self):\n",
    "        return \"\"\"\n",
    "    <template>\n",
    "    <div>\n",
    "        <div :style=\"{padding: '4px', 'background-color': color, color: 'white'}\">\n",
    "            <v-icon color=\"white\">{{icon}}</v-icon>\n",
    "            Iris-{{description}}(#<i>{{value}}</i>) <span v-if=\"extra_html\" v-html=\"extra_html\"></span>\n",
    "            <p>\n",
    "                <a :href=\"url\" target=\"_black\" style=\"color: white\">Visit wikipedia</a>\n",
    "            </p>\n",
    "\n",
    "            More information:\n",
    "            <ul v-if=\"record\" style=\"margin-top: 0\">\n",
    "                <li v-for=\"(value, name) in record\">{{name}}={{value}}</li>\n",
    "            </ul>\n",
    "        </div>\n",
    "    </div>\n",
    "    </template>\n",
    "\"\"\""
   ]
  },
  {
   "cell_type": "code",
   "execution_count": null,
   "id": "9fcecf84",
   "metadata": {
    "scrolled": false
   },
   "outputs": [],
   "source": [
    "popup = MyPopup()\n",
    "classes = [\"Setosa\", \"Versicolour\", \"Virginica\"]\n",
    "urls = {\n",
    "    \"Setosa\": \"https://en.wikipedia.org/wiki/Iris_setosa\",\n",
    "    \"Versicolour\": \"https://en.wikipedia.org/wiki/Iris_versicolor\",\n",
    "    \"Virginica\": \"https://en.wikipedia.org/wiki/Iris_virginica\"\n",
    "}\n",
    "\n",
    "colors = [\"red\", \"green\", \"blue\"]\n",
    "features = ['sepal_length', 'sepal_width', 'petal_length', 'petal_width']\n",
    "\n",
    "x, y, z = features[:3]\n",
    "ipv.figure()\n",
    "\n",
    "for class_index, name in enumerate(classes):\n",
    "    dfc = df[df.class_==class_index]\n",
    "    color = colors[class_index]\n",
    "    s = ipv.scatter(dfc[x].to_numpy(), dfc[y].to_numpy(), dfc[z].to_numpy(),\n",
    "                    color=color, description=name, marker='sphere')\n",
    "    s.popup = popup\n",
    "    def set_extra(index, class_index=class_index, name=name):\n",
    "        dfc = df[df.class_==class_index]\n",
    "        records = dfc[features].to_records()\n",
    "        popup.record = records[index]\n",
    "        popup.url = urls[name]\n",
    "    set_extra(0)        \n",
    "    s.observe(set_extra, \"hovered\")\n",
    "ipv.show()"
   ]
  },
  {
   "cell_type": "code",
   "execution_count": null,
   "id": "5fee2e18",
   "metadata": {},
   "outputs": [],
   "source": [
    "# while debugging/developing .vue files in the ipyvolume/vue directory,\n",
    "# execute this to get hot reloading\n",
    "# ipv.ui.watch()"
   ]
  },
  {
   "cell_type": "markdown",
   "id": "a5de9f15",
   "metadata": {},
   "source": [
    "[screencapture](screenshot/ipyvolume-popup-legend-iris.gif)"
   ]
  }
 ],
 "metadata": {
  "kernelspec": {
   "display_name": "Python 3.7.3 64-bit ('dev': conda)",
   "language": "python",
   "name": "python3"
  },
  "language_info": {
   "codemirror_mode": {
    "name": "ipython",
    "version": 3
   },
   "file_extension": ".py",
   "mimetype": "text/x-python",
   "name": "python",
   "nbconvert_exporter": "python",
   "pygments_lexer": "ipython3",
   "version": "3.7.10"
  }
 },
 "nbformat": 4,
 "nbformat_minor": 5
}

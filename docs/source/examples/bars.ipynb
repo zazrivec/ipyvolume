{
 "cells": [
  {
   "cell_type": "markdown",
   "metadata": {},
   "source": [
    "# Bar charts\n",
    "This is 'abusing' the scatter object to create a 3d bar chart"
   ]
  },
  {
   "cell_type": "code",
   "execution_count": null,
   "metadata": {
    "ExecuteTime": {
     "end_time": "2020-04-02T11:10:24.290979Z",
     "start_time": "2020-04-02T11:10:22.431581Z"
    }
   },
   "outputs": [],
   "source": [
    "import ipyvolume as ipv\n",
    "import numpy as np"
   ]
  },
  {
   "cell_type": "code",
   "execution_count": null,
   "metadata": {
    "ExecuteTime": {
     "end_time": "2020-04-02T11:20:11.984273Z",
     "start_time": "2020-04-02T11:20:11.976574Z"
    }
   },
   "outputs": [],
   "source": [
    "# set up data similar to animation notebook\n",
    "\n",
    "u_scale = 10\n",
    "Nx, Ny = 30, 15\n",
    "u = np.linspace(-u_scale, u_scale, Nx)\n",
    "v = np.linspace(-u_scale, u_scale, Ny)\n",
    "x, y = np.meshgrid(u, v, indexing='ij')\n",
    "r = np.sqrt(x**2+y**2)\n",
    "x = x.flatten()\n",
    "y = y.flatten()\n",
    "r = r.flatten()\n",
    "\n",
    "time = np.linspace(0, np.pi*2, 15)\n",
    "z = np.array([(np.cos(r + t) * np.exp(-r/5)) for t in time])\n",
    "zz = z"
   ]
  },
  {
   "cell_type": "code",
   "execution_count": null,
   "metadata": {},
   "outputs": [],
   "source": []
  },
  {
   "cell_type": "code",
   "execution_count": null,
   "metadata": {
    "ExecuteTime": {
     "end_time": "2020-04-02T11:20:12.401084Z",
     "start_time": "2020-04-02T11:20:12.344392Z"
    }
   },
   "outputs": [],
   "source": [
    "fig = ipv.figure()\n",
    "s = ipv.scatter(x, 0, y, aux=zz, marker=\"sphere\")\n",
    "dx = u[1] - u[0]\n",
    "dy = v[1] - v[0]\n",
    "# make the x and z lim half a 'box' larger\n",
    "ipv.xlim(-u_scale-dx/2, u_scale+dx/2)\n",
    "ipv.zlim(-u_scale-dx/2, u_scale+dx/2)\n",
    "ipv.ylim(-1.2, 1.2)\n",
    "ipv.show()"
   ]
  },
  {
   "cell_type": "markdown",
   "metadata": {},
   "source": [
    "We now make boxes, that fit exactly in the volume, by giving them a size of 1, in domain coordinates (so 1 unit as read of by the x-axis etc)"
   ]
  },
  {
   "cell_type": "code",
   "execution_count": null,
   "metadata": {
    "ExecuteTime": {
     "end_time": "2020-04-02T11:20:12.941581Z",
     "start_time": "2020-04-02T11:20:12.934218Z"
    }
   },
   "outputs": [],
   "source": [
    "# make the size 1, in domain coordinates (so 1 unit as read of by the x-axis etc)\n",
    "s.geo = 'box'\n",
    "s.size = 1\n",
    "s.size_x_scale = fig.scales['x']\n",
    "s.size_y_scale = fig.scales['y']\n",
    "s.size_z_scale = fig.scales['z']"
   ]
  },
  {
   "cell_type": "code",
   "execution_count": null,
   "metadata": {
    "ExecuteTime": {
     "end_time": "2020-04-02T11:20:13.260996Z",
     "start_time": "2020-04-02T11:20:13.257282Z"
    }
   },
   "outputs": [],
   "source": [
    "s.shader_snippets = {'size':\n",
    " 'size_vector.y = SCALE_SIZE_Y(aux_current); '\n",
    "}\n"
   ]
  },
  {
   "cell_type": "markdown",
   "metadata": {},
   "source": [
    "Using a shader snippet (that runs on the GPU), we set the y size equal to the aux value. However, since the box has size 1 around the origin of (0,0,0), we need to translate it up in the y direction by 0.5."
   ]
  },
  {
   "cell_type": "code",
   "execution_count": null,
   "metadata": {
    "ExecuteTime": {
     "end_time": "2020-04-02T11:20:13.831684Z",
     "start_time": "2020-04-02T11:20:13.825276Z"
    }
   },
   "outputs": [],
   "source": [
    "s.shader_snippets = {'size':\n",
    " 'size_vector.y = SCALE_SIZE_Y(aux_current) - SCALE_SIZE_Y(0.0) ; '\n",
    "}\n",
    "\n",
    "s.geo_matrix = [dx, 0, 0, 0,   0, 1, 0, 0,   0, 0, dy, 0,  0.0, 0.5, 0, 1]"
   ]
  },
  {
   "cell_type": "markdown",
   "metadata": {},
   "source": [
    "Since we see the boxes with negative sizes inside out, we made the material double sided"
   ]
  },
  {
   "cell_type": "code",
   "execution_count": null,
   "metadata": {
    "ExecuteTime": {
     "end_time": "2020-04-02T11:20:14.386124Z",
     "start_time": "2020-04-02T11:20:14.383093Z"
    }
   },
   "outputs": [],
   "source": [
    "# since we see the boxes with negative sizes inside out, we made the material double sided\n",
    "s.material.side = \"DoubleSide\""
   ]
  },
  {
   "cell_type": "code",
   "execution_count": null,
   "metadata": {
    "ExecuteTime": {
     "end_time": "2020-04-02T11:20:14.758048Z",
     "start_time": "2020-04-02T11:20:14.751625Z"
    }
   },
   "outputs": [],
   "source": [
    "# Now also include, color, which containts rgb values\n",
    "color = np.array([[np.cos(r + t), 1-np.abs(z[i]), 0.1+z[i]*0] for i, t in enumerate(time)])\n",
    "color = np.transpose(color, (0, 2, 1)) # flip the last axes\n",
    "s.color = color"
   ]
  },
  {
   "cell_type": "code",
   "execution_count": null,
   "metadata": {
    "ExecuteTime": {
     "end_time": "2020-04-02T11:20:15.323857Z",
     "start_time": "2020-04-02T11:20:15.295520Z"
    }
   },
   "outputs": [],
   "source": [
    "ipv.animation_control(s, interval=200)"
   ]
  },
  {
   "cell_type": "markdown",
   "metadata": {},
   "source": [
    "\n",
    "# Spherical bar charts"
   ]
  },
  {
   "cell_type": "code",
   "execution_count": null,
   "metadata": {
    "ExecuteTime": {
     "end_time": "2020-04-02T11:20:34.913567Z",
     "start_time": "2020-04-02T11:20:34.907298Z"
    }
   },
   "outputs": [],
   "source": [
    "# Create spherical coordinates\n",
    "u = np.linspace(0, 1, Nx)\n",
    "v = np.linspace(0, 1, Ny)\n",
    "u, v = np.meshgrid(u, v, indexing='ij')\n",
    "phi = u * 2 * np.pi\n",
    "theta = v * np.pi\n",
    "radius = 1\n",
    "xs = radius * np.cos(phi) * np.sin(theta)\n",
    "ys = radius * np.sin(phi) * np.sin(theta)\n",
    "zs = radius * np.cos(theta)\n",
    "xs = xs.flatten()\n",
    "ys = ys.flatten()\n",
    "zs = zs.flatten()\n"
   ]
  },
  {
   "cell_type": "code",
   "execution_count": null,
   "metadata": {
    "ExecuteTime": {
     "end_time": "2020-04-02T11:20:35.405470Z",
     "start_time": "2020-04-02T11:20:35.313505Z"
    }
   },
   "outputs": [],
   "source": [
    "fig = ipv.figure()\n",
    "# we use the coordinates as the normals, and thus direction\n",
    "s = ipv.scatter(xs, ys, zs, vx=xs, vy=ys, vz=zs, aux=zz, color=color, marker=\"cylinder_hr\")\n",
    "ipv.xyzlim(2)\n",
    "ipv.show()"
   ]
  },
  {
   "cell_type": "code",
   "execution_count": null,
   "metadata": {
    "ExecuteTime": {
     "end_time": "2020-04-02T11:20:36.122432Z",
     "start_time": "2020-04-02T11:20:36.098701Z"
    }
   },
   "outputs": [],
   "source": [
    "ipv.animation_control(s, interval=200)"
   ]
  },
  {
   "cell_type": "code",
   "execution_count": null,
   "metadata": {
    "ExecuteTime": {
     "end_time": "2020-04-02T11:20:36.676871Z",
     "start_time": "2020-04-02T11:20:36.671562Z"
    }
   },
   "outputs": [],
   "source": [
    "import bqplot\n",
    "# the aux range is from -1 to 1, but if we put 0 as min, negative values will go inside\n",
    "# the max determines the 'height' of the bars\n",
    "aux_scale = bqplot.LinearScale(min=0, max=5)\n",
    "s.aux_scale = aux_scale"
   ]
  },
  {
   "cell_type": "code",
   "execution_count": null,
   "metadata": {
    "ExecuteTime": {
     "end_time": "2020-04-02T11:20:37.470078Z",
     "start_time": "2020-04-02T11:20:37.464541Z"
    }
   },
   "outputs": [],
   "source": [
    "s.shader_snippets = {'size':\n",
    " '''float sc = (SCALE_AUX(aux_current) - SCALE_AUX(0.0)); size_vector.y = sc;\n",
    " '''}\n",
    "s.material.side = \"DoubleSide\"\n",
    "s.size = 2\n",
    "s.geo_matrix = [1, 0, 0, 0,   0, 1, 0, 0,   0, 0, 1, 0,  0.0, 0.5, 0, 1]"
   ]
  },
  {
   "cell_type": "code",
   "execution_count": null,
   "metadata": {
    "ExecuteTime": {
     "end_time": "2020-04-02T11:20:19.953260Z",
     "start_time": "2020-04-02T11:20:19.949808Z"
    }
   },
   "outputs": [],
   "source": [
    "ipv.style.box_off()\n",
    "ipv.style.axes_off()"
   ]
  },
  {
   "cell_type": "markdown",
   "metadata": {},
   "source": [
    "[screenshot](screenshot/bars.gif)"
   ]
  }
 ],
 "metadata": {
  "kernelspec": {
   "display_name": "Python 3",
   "language": "python",
   "name": "python3"
  },
  "language_info": {
   "codemirror_mode": {
    "name": "ipython",
    "version": 3
   },
   "file_extension": ".py",
   "mimetype": "text/x-python",
   "name": "python",
   "nbconvert_exporter": "python",
   "pygments_lexer": "ipython3",
   "version": "3.7.3"
  }
 },
 "nbformat": 4,
 "nbformat_minor": 2
}

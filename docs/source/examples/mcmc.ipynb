{
 "cells": [
  {
   "cell_type": "markdown",
   "metadata": {},
   "source": [
    "# MCMC & why 3d matters\n",
    "This example (although quite artificial) shows that viewing a posterior (ok, I have flat priors) in 3d can be quite useful. While the 2d projection may look quite 'bad', the 3d volume rendering shows that much of the volume is empty, and the posterior is much better defined than it seems in 2d."
   ]
  },
  {
   "cell_type": "code",
   "execution_count": 1,
   "metadata": {
    "ExecuteTime": {
     "end_time": "2020-03-30T12:32:36.276678Z",
     "start_time": "2020-03-30T12:32:33.037450Z"
    }
   },
   "outputs": [
    {
     "name": "stdout",
     "output_type": "stream",
     "text": [
      "Requirement already satisfied: emcee in /Users/maartenbreddels/miniconda3/envs/dev/lib/python3.7/site-packages (3.0.2)\n",
      "Requirement already satisfied: corner in /Users/maartenbreddels/miniconda3/envs/dev/lib/python3.7/site-packages (2.0.1)\n",
      "Requirement already satisfied: numpy in /Users/maartenbreddels/miniconda3/envs/dev/lib/python3.7/site-packages (from emcee) (1.17.2)\n",
      "Requirement already satisfied: matplotlib in /Users/maartenbreddels/miniconda3/envs/dev/lib/python3.7/site-packages (from corner) (3.1.1)\n",
      "Requirement already satisfied: cycler>=0.10 in /Users/maartenbreddels/miniconda3/envs/dev/lib/python3.7/site-packages (from matplotlib->corner) (0.10.0)\n",
      "Requirement already satisfied: python-dateutil>=2.1 in /Users/maartenbreddels/miniconda3/envs/dev/lib/python3.7/site-packages (from matplotlib->corner) (2.8.0)\n",
      "Requirement already satisfied: kiwisolver>=1.0.1 in /Users/maartenbreddels/miniconda3/envs/dev/lib/python3.7/site-packages (from matplotlib->corner) (1.1.0)\n",
      "Requirement already satisfied: pyparsing!=2.0.4,!=2.1.2,!=2.1.6,>=2.0.1 in /Users/maartenbreddels/miniconda3/envs/dev/lib/python3.7/site-packages (from matplotlib->corner) (2.4.2)\n",
      "Requirement already satisfied: six in /Users/maartenbreddels/miniconda3/envs/dev/lib/python3.7/site-packages (from cycler>=0.10->matplotlib->corner) (1.12.0)\n",
      "Requirement already satisfied: setuptools in /Users/maartenbreddels/miniconda3/envs/dev/lib/python3.7/site-packages (from kiwisolver>=1.0.1->matplotlib->corner) (41.4.0)\n"
     ]
    }
   ],
   "source": [
    "!pip install emcee corner"
   ]
  },
  {
   "cell_type": "code",
   "execution_count": 5,
   "metadata": {
    "ExecuteTime": {
     "end_time": "2020-03-30T12:34:47.848295Z",
     "start_time": "2020-03-30T12:34:45.337055Z"
    }
   },
   "outputs": [
    {
     "name": "stdout",
     "output_type": "stream",
     "text": [
      "Name: matplotlib\n",
      "Version: 3.1.1\n",
      "Summary: Python plotting package\n",
      "Home-page: https://matplotlib.org\n",
      "Author: John D. Hunter, Michael Droettboom\n",
      "Author-email: matplotlib-users@python.org\n",
      "License: PSF\n",
      "Location: /Users/maartenbreddels/miniconda3/envs/dev/lib/python3.7/site-packages\n",
      "Requires: python-dateutil, cycler, pyparsing, numpy, kiwisolver\n",
      "Required-by: seaborn, scikit-image, mpl-scatter-density, ipympl, glue-vispy-viewers, corner, catboost, vaex-viz, vaex-ui, vaex-arrow, glue-core\n"
     ]
    }
   ],
   "source": [
    "!pip show matplotlib"
   ]
  },
  {
   "cell_type": "code",
   "execution_count": 2,
   "metadata": {
    "ExecuteTime": {
     "end_time": "2020-03-30T12:32:37.274908Z",
     "start_time": "2020-03-30T12:32:36.279171Z"
    }
   },
   "outputs": [],
   "source": [
    "import pylab\n",
    "import scipy.optimize as op\n",
    "import emcee\n",
    "import numpy as np\n",
    "%matplotlib inline"
   ]
  },
  {
   "cell_type": "code",
   "execution_count": 3,
   "metadata": {
    "ExecuteTime": {
     "end_time": "2020-03-30T12:32:37.280989Z",
     "start_time": "2020-03-30T12:32:37.277511Z"
    }
   },
   "outputs": [],
   "source": [
    "# our 'blackbox' 3 parameter model which is highly degenerate\n",
    "def f_model(x, a, b, c):\n",
    "    return x * np.sqrt(a**2 +b**2 + c**2) + a*x**2 + b*x**3"
   ]
  },
  {
   "cell_type": "code",
   "execution_count": 4,
   "metadata": {
    "ExecuteTime": {
     "end_time": "2020-03-30T12:32:37.784892Z",
     "start_time": "2020-03-30T12:32:37.288491Z"
    }
   },
   "outputs": [
    {
     "data": {
      "text/plain": [
       "Text(0, 0.5, '$y$')"
      ]
     },
     "execution_count": 4,
     "metadata": {},
     "output_type": "execute_result"
    },
    {
     "data": {
      "image/png": "[encoded data removed]",
      "text/plain": [
       "<Figure size 432x288 with 1 Axes>"
      ]
     },
     "metadata": {
      "needs_background": "light"
     },
     "output_type": "display_data"
    }
   ],
   "source": [
    "N = 100\n",
    "a_true, b_true, c_true = -1., 2., 1.5\n",
    "\n",
    "# our input and output\n",
    "x = np.random.rand(N)*0.5#+0.5\n",
    "y = f_model(x, a_true, b_true, c_true)\n",
    "\n",
    "# + some (known) gaussian noise\n",
    "error = 0.2\n",
    "y += np.random.normal(0, error, N)\n",
    "\n",
    "# and plot our data\n",
    "pylab.scatter(x, y);\n",
    "pylab.xlabel(\"$x$\")\n",
    "pylab.ylabel(\"$y$\")"
   ]
  },
  {
   "cell_type": "code",
   "execution_count": null,
   "metadata": {
    "ExecuteTime": {
     "end_time": "2020-03-30T10:29:49.086390Z",
     "start_time": "2020-03-30T10:29:49.066533Z"
    }
   },
   "outputs": [],
   "source": [
    "# our likelihood\n",
    "def lnlike(theta, x, y, error):\n",
    "    a, b, c = theta\n",
    "    model =  f_model(x, a, b, c)\n",
    "    chisq = 0.5*(np.sum((y-model)**2/error**2))\n",
    "    return -chisq\n",
    "result = op.minimize(lambda *args: -lnlike(*args), [a_true, b_true, c_true], args=(x, y, error))\n",
    "# find the max likelihood\n",
    "a_ml, b_ml, c_ml = result[\"x\"]\n",
    "print(\"estimates\", a_ml, b_ml, c_ml)\n",
    "print(\"true values\", a_true, b_true, c_true)\n",
    "result[\"message\"]"
   ]
  },
  {
   "cell_type": "code",
   "execution_count": null,
   "metadata": {
    "ExecuteTime": {
     "end_time": "2020-03-30T10:29:54.298162Z",
     "start_time": "2020-03-30T10:29:49.088410Z"
    }
   },
   "outputs": [],
   "source": [
    "# do the mcmc walk\n",
    "ndim, nwalkers = 3, 100\n",
    "pos = [result[\"x\"] + np.random.randn(ndim)*0.1 for i in range(nwalkers)]\n",
    "sampler = emcee.EnsembleSampler(nwalkers, ndim, lnlike, args=(x, y, error))\n",
    "sampler.run_mcmc(pos, 1500);\n",
    "samples = sampler.chain[:, 50:, :].reshape((-1, ndim))"
   ]
  },
  {
   "cell_type": "markdown",
   "metadata": {},
   "source": [
    "## Posterior in 2d"
   ]
  },
  {
   "cell_type": "code",
   "execution_count": null,
   "metadata": {
    "ExecuteTime": {
     "end_time": "2020-03-30T10:29:55.349536Z",
     "start_time": "2020-03-30T10:29:54.299655Z"
    }
   },
   "outputs": [],
   "source": [
    "# plot the 2d pdfs\n",
    "import corner\n",
    "fig = corner.corner(samples, labels=[\"$a$\", \"$b$\", \"$c$\"],\n",
    "                      truths=[a_true, b_true, c_true])"
   ]
  },
  {
   "cell_type": "markdown",
   "metadata": {},
   "source": [
    "## Posterior in 3d"
   ]
  },
  {
   "cell_type": "code",
   "execution_count": null,
   "metadata": {
    "ExecuteTime": {
     "end_time": "2020-03-30T10:29:57.451409Z",
     "start_time": "2020-03-30T10:29:55.352808Z"
    }
   },
   "outputs": [],
   "source": [
    "import vaex\n",
    "import scipy.ndimage\n",
    "import ipyvolume"
   ]
  },
  {
   "cell_type": "code",
   "execution_count": null,
   "metadata": {
    "ExecuteTime": {
     "end_time": "2020-03-30T10:29:57.494642Z",
     "start_time": "2020-03-30T10:29:57.453742Z"
    }
   },
   "outputs": [],
   "source": [
    "ds = vaex.from_arrays(a=samples[...,0].copy(), b=samples[...,1].copy(), c=samples[...,2].copy())\n",
    "# get 2d histogram\n",
    "v = ds.count(binby=[\"a\", \"b\", \"c\"], shape=64)\n",
    "# smooth it for visual pleasure\n",
    "v = scipy.ndimage.gaussian_filter(v, 2)"
   ]
  },
  {
   "cell_type": "code",
   "execution_count": null,
   "metadata": {
    "ExecuteTime": {
     "end_time": "2020-03-30T10:29:57.654134Z",
     "start_time": "2020-03-30T10:29:57.497240Z"
    }
   },
   "outputs": [],
   "source": [
    "ipyvolume.quickvolshow(v, lighting=True)"
   ]
  },
  {
   "cell_type": "markdown",
   "metadata": {
    "collapsed": true
   },
   "source": [
    "Note that actually a large part of the volume is empty."
   ]
  },
  {
   "cell_type": "markdown",
   "metadata": {},
   "source": [
    "[screenshot](screenshot/mcmc.png)"
   ]
  }
 ],
 "metadata": {
  "anaconda-cloud": {},
  "kernelspec": {
   "display_name": "Python 3",
   "language": "python",
   "name": "python3"
  },
  "language_info": {
   "codemirror_mode": {
    "name": "ipython",
    "version": 3
   },
   "file_extension": ".py",
   "mimetype": "text/x-python",
   "name": "python",
   "nbconvert_exporter": "python",
   "pygments_lexer": "ipython3",
   "version": "3.7.3"
  }
 },
 "nbformat": 4,
 "nbformat_minor": 2
}

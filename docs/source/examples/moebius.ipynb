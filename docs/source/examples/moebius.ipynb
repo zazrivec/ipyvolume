{
 "cells": [
  {
   "cell_type": "markdown",
   "metadata": {},
   "source": [
    "# Möbius strip\n",
    "\n",
    "This is a solution for issue [#249](https://github.com/maartenbreddels/ipyvolume/issues/249) and it is the result of contributions from [@deeplok](https://github.com/deeplook) and [@rpanai](https://github.com/rpanai)."
   ]
  },
  {
   "cell_type": "code",
   "execution_count": null,
   "metadata": {
    "ExecuteTime": {
     "end_time": "2020-03-30T18:56:28.167853Z",
     "start_time": "2020-03-30T18:56:27.177866Z"
    }
   },
   "outputs": [],
   "source": [
    "from numpy import pi, cos, sin, linspace, meshgrid\n",
    "import ipyvolume.pylab as p3\n",
    "\n",
    "def möbius(draw=True, show=True, num=40, endpoint=True,\n",
    "           uv=True, wireframe=False, texture=None):\n",
    "    # http://paulbourke.net/geometry/toroidal\n",
    "    u = linspace(0, 2 * pi, num=num, endpoint=endpoint)\n",
    "    v = linspace(-0.4, 0.4, num=num, endpoint=endpoint)\n",
    "    u, v = meshgrid(u, v)\n",
    "    x = cos(u) + v * cos(u / 2) * cos(u)\n",
    "    y = sin(u) + v * cos(u / 2) * sin(u)\n",
    "    z = v * sin(u / 2)\n",
    "    if draw:\n",
    "        if texture:\n",
    "            uv = True\n",
    "        kwargs = dict(wrapx=not endpoint, wrapy=not endpoint,\n",
    "                      wireframe=wireframe, texture=texture)\n",
    "        if uv:\n",
    "            kwargs.update(dict(u=u/(2*pi), v=v/(2*pi)))\n",
    "        mesh = p3.plot_mesh(x, y, z, **kwargs)\n",
    "        if show:\n",
    "            p3.squarelim()\n",
    "            p3.show()\n",
    "        return mesh\n",
    "    else:\n",
    "        return x, y, z, u, v\n",
    "    \n",
    "mesh = möbius()"
   ]
  },
  {
   "cell_type": "markdown",
   "metadata": {},
   "source": [
    "[screenshot](screenshot/moebius.png)"
   ]
  },
  {
   "cell_type": "code",
   "execution_count": null,
   "metadata": {},
   "outputs": [],
   "source": []
  }
 ],
 "metadata": {
  "kernelspec": {
   "display_name": "Python 3",
   "language": "python",
   "name": "python3"
  },
  "language_info": {
   "codemirror_mode": {
    "name": "ipython",
    "version": 3
   },
   "file_extension": ".py",
   "mimetype": "text/x-python",
   "name": "python",
   "nbconvert_exporter": "python",
   "pygments_lexer": "ipython3",
   "version": "3.7.6"
  }
 },
 "nbformat": 4,
 "nbformat_minor": 4
}

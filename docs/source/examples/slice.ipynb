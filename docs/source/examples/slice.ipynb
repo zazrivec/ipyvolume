{
 "cells": [
  {
   "cell_type": "markdown",
   "id": "50f288c1",
   "metadata": {},
   "source": [
    "# Slicing\n",
    "\n",
    "Ipyvolume has no special support for slicing 3d volumes, but has the options to support this. To understand how to do this, we will create a 3d plot, with a plane, which will be controlled using the mouse, and later on texture map this with the same data as the volumetric data.\n",
    "\n",
    "## Simple guassian blob\n",
    "Lets start with a simple scatter plot."
   ]
  },
  {
   "cell_type": "code",
   "execution_count": null,
   "id": "99b9e4ef",
   "metadata": {},
   "outputs": [],
   "source": [
    "import ipyvolume as ipv\n",
    "fig = ipv.figure()\n",
    "scatter = ipv.examples.gaussian(show=False)\n",
    "ipv.show()"
   ]
  },
  {
   "cell_type": "markdown",
   "id": "dcc63152",
   "metadata": {},
   "source": [
    "Now, we add a plane at z=0."
   ]
  },
  {
   "cell_type": "code",
   "execution_count": null,
   "id": "48f93f95",
   "metadata": {},
   "outputs": [],
   "source": [
    "plane = ipv.plot_plane(\"z\");"
   ]
  },
  {
   "cell_type": "markdown",
   "id": "5032424d",
   "metadata": {},
   "source": [
    "By holding the shift key and hovering the mouse at the edges of the bounding box (or activate slice mode in the toolbar, and click), we modify the `slice_z` property. By linking the `slice_z` property to the `z_offset` property of the mesh/plane, we can interactively move the plane. Note that in order to change the `z_offset`, you need to hover the mouse at the sides of the bounding box, which means you need to make sides of the bounding box visible."
   ]
  },
  {
   "cell_type": "code",
   "execution_count": null,
   "id": "46d549af",
   "metadata": {},
   "outputs": [],
   "source": [
    "import ipywidgets as widgets\n",
    "widgets.jslink((fig, 'slice_z'), (plane, 'z_offset'));"
   ]
  },
  {
   "cell_type": "markdown",
   "id": "a36ffa78",
   "metadata": {},
   "source": [
    "## Adding a texture\n",
    "This plane can be texture mapped with additional information, for instance, a heatmap. We use vaex with maplotlib to create a simple 2d heatmap PIL Image."
   ]
  },
  {
   "cell_type": "code",
   "execution_count": null,
   "id": "a637d81b",
   "metadata": {},
   "outputs": [],
   "source": [
    "## Uncomment to try\n",
    "# import vaex\n",
    "# import matplotlib.pylab as plt\n",
    "# import PIL.Image\n",
    "\n",
    "# df = vaex.from_arrays(x=scatter.x, y=scatter.y)\n",
    "\n",
    "# fig2d = plt.figure()\n",
    "# ax = fig2d.add_axes([0, 0, 1, 1])\n",
    "# df.viz.heatmap(df.x, df.y, shape=64, show=False, colorbar=False, tight_layout=False)\n",
    "# fig2d.axes[0].axis('off');\n",
    "# plt.draw()\n",
    "# image = PIL.Image.frombytes('RGB', fig2d.canvas.get_width_height(), fig2d.canvas.tostring_rgb())\n",
    "# plt.close()\n",
    "# image"
   ]
  },
  {
   "cell_type": "markdown",
   "id": "ab0834f0",
   "metadata": {},
   "source": [
    "On just download an image:"
   ]
  },
  {
   "cell_type": "code",
   "execution_count": null,
   "id": "627c7fac",
   "metadata": {},
   "outputs": [],
   "source": [
    "# example how put a png as texture\n",
    "import PIL.Image\n",
    "import requests\n",
    "import io\n",
    "\n",
    "url = 'https://vaex.io/img/logos/spiral-small.png'\n",
    "r = requests.get(url, stream=True)\n",
    "f = io.BytesIO(r.content)\n",
    "image = PIL.Image.open(f)"
   ]
  },
  {
   "cell_type": "markdown",
   "id": "46a6ddc9",
   "metadata": {},
   "source": [
    "And assign it to the plane's texture. Note that we should also set its u and v coordinates, so we know where the edges of the texture map should go:"
   ]
  },
  {
   "cell_type": "code",
   "execution_count": null,
   "id": "1772f365",
   "metadata": {},
   "outputs": [],
   "source": [
    "plane.u = [0.0, 1.0, 1.0, 0.0]\n",
    "plane.v = [0.0, 0.0, 1.0, 1.0]\n",
    "plane.texture = image"
   ]
  },
  {
   "cell_type": "code",
   "execution_count": null,
   "id": "af109417",
   "metadata": {},
   "outputs": [],
   "source": []
  },
  {
   "cell_type": "markdown",
   "id": "fac6c07d",
   "metadata": {},
   "source": [
    "## Slicing a volume\n",
    "We can also, texture map a mesh (a plane is a mesh) with a 3d texture, from the volumetric data.\n"
   ]
  },
  {
   "cell_type": "code",
   "execution_count": null,
   "id": "5eae4efd",
   "metadata": {},
   "outputs": [],
   "source": [
    "import ipyvolume as ipv\n",
    "fig = ipv.figure()\n",
    "volume = ipv.examples.head(show=False, description=\"Patient X\")\n",
    "ipv.show()"
   ]
  },
  {
   "cell_type": "markdown",
   "id": "fbcd088e",
   "metadata": {},
   "source": [
    "We now add 3 planes, and pass our volume so it can be used as a texture map."
   ]
  },
  {
   "cell_type": "code",
   "execution_count": null,
   "id": "42602f45",
   "metadata": {},
   "outputs": [],
   "source": [
    "slice_x = ipv.plot_plane('x', volume=volume, description=\"Slice X\", description_color=\"black\", icon=\"mdi-knife\")\n",
    "slice_y = ipv.plot_plane('y', volume=volume, description=\"Slice Y\", description_color=\"black\", icon=\"mdi-knife\")\n",
    "slice_z = ipv.plot_plane('z', volume=volume, description=\"Slice Z\", description_color=\"black\", icon=\"mdi-knife\",\n",
    "                         visible=False)\n"
   ]
  },
  {
   "cell_type": "markdown",
   "id": "fb47818f",
   "metadata": {},
   "source": [
    "Again, by connecting the slice coordinates to the offsets of the planes, we can create 3 slicing planes that can be controlled interactively."
   ]
  },
  {
   "cell_type": "code",
   "execution_count": null,
   "id": "6e2bf52f",
   "metadata": {},
   "outputs": [],
   "source": [
    "import ipywidgets as widgets\n",
    "widgets.jslink((fig, 'slice_x'), (slice_x, 'x_offset'))\n",
    "widgets.jslink((fig, 'slice_y'), (slice_y, 'y_offset'))\n",
    "widgets.jslink((fig, 'slice_z'), (slice_z, 'z_offset'));"
   ]
  },
  {
   "cell_type": "markdown",
   "id": "68bbdaef",
   "metadata": {},
   "source": [
    "Note that you can save the output to an html file, and the slicing will still work without a connected kernel."
   ]
  },
  {
   "cell_type": "code",
   "execution_count": null,
   "id": "a1d0ddd3",
   "metadata": {},
   "outputs": [],
   "source": [
    "# uncomment to save\n",
    "ipv.save(\"slice.html\", devmode=True)"
   ]
  },
  {
   "cell_type": "markdown",
   "id": "684f2762",
   "metadata": {},
   "source": [
    "[screencapture](screenshot/ipyvolume-slice-head.gif)"
   ]
  },
  {
   "cell_type": "code",
   "execution_count": null,
   "id": "81f93f61",
   "metadata": {},
   "outputs": [],
   "source": []
  }
 ],
 "metadata": {
  "kernelspec": {
   "display_name": "Python 3.7.3 64-bit ('dev': conda)",
   "language": "python",
   "name": "python3"
  },
  "language_info": {
   "codemirror_mode": {
    "name": "ipython",
    "version": 3
   },
   "file_extension": ".py",
   "mimetype": "text/x-python",
   "name": "python",
   "nbconvert_exporter": "python",
   "pygments_lexer": "ipython3",
   "version": "3.7.10"
  }
 },
 "nbformat": 4,
 "nbformat_minor": 5
}

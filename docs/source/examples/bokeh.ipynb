{
 "cells": [
  {
   "cell_type": "markdown",
   "metadata": {},
   "source": [
    "# ipyvolume & bokeh\n",
    "This example shows how the selection from a ipyvolume quiver plot can be controlled with a bokeh scatter plot and it's selection tools."
   ]
  },
  {
   "cell_type": "markdown",
   "metadata": {},
   "source": [
    "## Ipyvolume quiver plot\n",
    "The 3d quiver plot is done using ipyvolume"
   ]
  },
  {
   "cell_type": "code",
   "execution_count": null,
   "metadata": {
    "ExecuteTime": {
     "end_time": "2020-03-30T11:27:28.420204Z",
     "start_time": "2020-03-30T11:27:26.054278Z"
    }
   },
   "outputs": [],
   "source": [
    "import ipyvolume\n",
    "import ipyvolume as ipv\n",
    "import vaex"
   ]
  },
  {
   "cell_type": "markdown",
   "metadata": {},
   "source": [
    "We load some data from vaex, but only use the first 10 000 samples for performance reasons of Bokeh."
   ]
  },
  {
   "cell_type": "code",
   "execution_count": null,
   "metadata": {
    "ExecuteTime": {
     "end_time": "2020-03-30T11:27:28.442856Z",
     "start_time": "2020-03-30T11:27:28.422421Z"
    }
   },
   "outputs": [],
   "source": [
    "ds = vaex.example()\n",
    "N = 10000"
   ]
  },
  {
   "cell_type": "markdown",
   "metadata": {},
   "source": [
    "We make a quiver plot using ipyvolume's matplotlib's style api."
   ]
  },
  {
   "cell_type": "code",
   "execution_count": null,
   "metadata": {
    "ExecuteTime": {
     "end_time": "2020-03-30T11:27:28.505281Z",
     "start_time": "2020-03-30T11:27:28.456845Z"
    }
   },
   "outputs": [],
   "source": [
    "ipv.figure()\n",
    "quiver = ipv.quiver(ds.data.x[:N],  ds.data.y[:N],  ds.data.z[:N],\n",
    "                    ds.data.vx[:N], ds.data.vy[:N], ds.data.vz[:N],\n",
    "                    size=1, size_selected=5, color_selected=\"grey\")\n",
    "ipv.xyzlim(-30, 30)\n",
    "ipv.show()"
   ]
  },
  {
   "cell_type": "markdown",
   "metadata": {},
   "source": [
    "## Bokeh scatter part\n",
    "The 2d scatter plot is done using Bokeh."
   ]
  },
  {
   "cell_type": "code",
   "execution_count": null,
   "metadata": {
    "ExecuteTime": {
     "end_time": "2020-03-30T11:27:31.015118Z",
     "start_time": "2020-03-30T11:27:30.238615Z"
    }
   },
   "outputs": [],
   "source": [
    "from bokeh.io import output_notebook, show\n",
    "from bokeh.plotting import figure\n",
    "from bokeh.models import CustomJS, ColumnDataSource\n",
    "\n",
    "import ipyvolume.bokeh\n",
    "output_notebook()"
   ]
  },
  {
   "cell_type": "code",
   "execution_count": null,
   "metadata": {
    "ExecuteTime": {
     "end_time": "2020-03-30T11:27:33.950845Z",
     "start_time": "2020-03-30T11:27:33.934619Z"
    }
   },
   "outputs": [],
   "source": [
    "data_source = ColumnDataSource(data=dict(x=ds.data.Lz[:N], y=ds.data.E[:N]))\n"
   ]
  },
  {
   "cell_type": "code",
   "execution_count": null,
   "metadata": {
    "ExecuteTime": {
     "end_time": "2020-03-30T11:27:35.151433Z",
     "start_time": "2020-03-30T11:27:35.117128Z"
    }
   },
   "outputs": [],
   "source": [
    "p = figure(title=\"E Lz space\", tools='lasso_select', width=500, height=500)\n",
    "r = p.circle('x', 'y', source=data_source, color=\"navy\", alpha=0.2)\n",
    "ipyvolume.bokeh.link_data_source_selection_to_widget(data_source, quiver, 'selected')\n",
    "show(p)"
   ]
  },
  {
   "cell_type": "markdown",
   "metadata": {},
   "source": [
    "Now try doing a selection and see how the above 3d quiver plot reflects this selection."
   ]
  },
  {
   "cell_type": "code",
   "execution_count": null,
   "metadata": {
    "ExecuteTime": {
     "end_time": "2020-03-30T11:28:19.937280Z",
     "start_time": "2020-03-30T11:28:19.887671Z"
    }
   },
   "outputs": [],
   "source": [
    "# but them next to eachother\n",
    "import ipywidgets\n",
    "out = ipywidgets.Output()\n",
    "with out:\n",
    "    show(p)\n",
    "ipywidgets.HBox([out, ipv.gcc()])"
   ]
  },
  {
   "cell_type": "markdown",
   "metadata": {},
   "source": [
    "## Embedding in html"
   ]
  },
  {
   "cell_type": "markdown",
   "metadata": {},
   "source": [
    "A bit of a hack, but it is possible to embed the widget and the bokeh part into a single html file (use at own risk)."
   ]
  },
  {
   "cell_type": "code",
   "execution_count": null,
   "metadata": {
    "ExecuteTime": {
     "end_time": "2020-03-30T11:29:22.923631Z",
     "start_time": "2020-03-30T11:29:22.884487Z"
    },
    "run_control": {
     "marked": false
    }
   },
   "outputs": [],
   "source": [
    "from bokeh.resources import CDN\n",
    "from bokeh.embed import components\n",
    "\n",
    "script, div = components((p))\n",
    "template_options = dict(extra_script_head=script + CDN.render_js() + CDN.render_css(),\n",
    "                        body_pre=\"<h2>Do selections in 2d (bokeh)<h2>\" + div + \"<h2>And see the selection in ipyvolume<h2>\")\n",
    "ipyvolume.embed.embed_html(\"tmp/bokeh.html\",\n",
    "                           [ipv.gcc(), ipyvolume.bokeh.wmh], all_states=True,\n",
    "                           template_options=template_options)"
   ]
  },
  {
   "cell_type": "code",
   "execution_count": 1,
   "metadata": {
    "ExecuteTime": {
     "end_time": "2020-03-30T11:31:52.470776Z",
     "start_time": "2020-03-30T11:31:52.463462Z"
    }
   },
   "outputs": [],
   "source": [
    "# uncomment the next line to open the html file\n",
    "# !open tmp/bokeh.html"
   ]
  },
  {
   "cell_type": "markdown",
   "metadata": {
    "ExecuteTime": {
     "end_time": "2020-03-30T11:32:05.782676Z",
     "start_time": "2020-03-30T11:32:05.622311Z"
    }
   },
   "source": [
    "[screenshot](screenshot/bokeh.png)"
   ]
  }
 ],
 "metadata": {
  "anaconda-cloud": {},
  "kernelspec": {
   "display_name": "Python 3",
   "language": "python",
   "name": "python3"
  },
  "language_info": {
   "codemirror_mode": {
    "name": "ipython",
    "version": 3
   },
   "file_extension": ".py",
   "mimetype": "text/x-python",
   "name": "python",
   "nbconvert_exporter": "python",
   "pygments_lexer": "ipython3",
   "version": "3.7.3"
  }
 },
 "nbformat": 4,
 "nbformat_minor": 2
}

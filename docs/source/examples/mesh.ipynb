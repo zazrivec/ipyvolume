{
 "cells": [
  {
   "cell_type": "markdown",
   "metadata": {},
   "source": [
    "# Meshes / Surfaces\n",
    "Meshes (or surfaces) in ipyvolume consist of triangles, and are defined by their coordinate (vertices) and faces/triangles, which refer to three vertices."
   ]
  },
  {
   "cell_type": "code",
   "execution_count": null,
   "metadata": {},
   "outputs": [],
   "source": [
    "import ipyvolume as ipv\n",
    "import numpy as np"
   ]
  },
  {
   "cell_type": "markdown",
   "metadata": {},
   "source": [
    "## Triangle meshes\n",
    "Lets first construct a 'solid', a [tetrahedron](https://en.wikipedia.org/wiki/Tetrahedron#Formulas_for_a_regular_tetrahedron), consisting out of 4 vertices, and 4 faces (triangles) using [plot_trisurf](api.html#ipyvolume.pylab.plot_trisurf)"
   ]
  },
  {
   "cell_type": "code",
   "execution_count": null,
   "metadata": {},
   "outputs": [],
   "source": [
    "s = 1/2**0.5\n",
    "# 4 vertices for the tetrahedron\n",
    "x = np.array([1.,  -1, 0,  0])\n",
    "y = np.array([0,   0, 1., -1])\n",
    "z = np.array([-s, -s, s,  s])\n",
    "# and 4 surfaces (triangles), where the number refer to the vertex index\n",
    "triangles = [(0, 1, 2), (0, 1, 3), (0, 2, 3), (1,3,2)]"
   ]
  },
  {
   "cell_type": "code",
   "execution_count": null,
   "metadata": {},
   "outputs": [],
   "source": [
    "ipv.figure()\n",
    "# we draw the tetrahedron\n",
    "mesh = ipv.plot_trisurf(x, y, z, triangles=triangles, color='orange')\n",
    "# and also mark the vertices\n",
    "ipv.scatter(x, y, z, marker='sphere', color='blue')\n",
    "ipv.xyzlim(-2, 2)\n",
    "ipv.show()"
   ]
  },
  {
   "cell_type": "markdown",
   "metadata": {},
   "source": [
    "## Surfaces\n",
    "To draw [parametric surfaces](https://en.wikipedia.org/wiki/Parametric_surface), which go from $\\Bbb{R}^2 \\rightarrow \\Bbb{R}^3$, it's convenient to use [plot_surface](api.html#ipyvolume.pylab.plot_surface), which takes 2d numpy arrays as arguments, assuming they form a regular grid (meaning you do not need to provide the triangles, since they can be inferred from the shape of the arrays). Note that [plot_wireframe](api.html#ipyvolume.pylab.plot_wireframe) has a similar api, as does [plot_mesh](api.html#ipyvolume.pylab.plot_mesh) which can do both the surface and wireframe at the same time."
   ]
  },
  {
   "cell_type": "code",
   "execution_count": null,
   "metadata": {},
   "outputs": [],
   "source": [
    "# f(u, v) -> (u, v, u*v**2)\n",
    "a = np.arange(-5, 5)\n",
    "U, V = np.meshgrid(a, a)\n",
    "X = U\n",
    "Y = V\n",
    "Z = X*Y**2\n",
    "\n",
    "ipv.figure()\n",
    "ipv.plot_surface(X, Z, Y, color=\"orange\")\n",
    "ipv.plot_wireframe(X, Z, Y, color=\"red\")\n",
    "ipv.show()"
   ]
  },
  {
   "cell_type": "markdown",
   "metadata": {},
   "source": [
    "## Colors\n",
    "Vertices can take colors as well, as the example below (adapted from [matplotlib](https://matplotlib.org/mpl_toolkits/mplot3d/tutorial.html#surface-plots)) shows."
   ]
  },
  {
   "cell_type": "code",
   "execution_count": null,
   "metadata": {},
   "outputs": [],
   "source": [
    "X = np.arange(-5, 5, 0.25*1)\n",
    "Y = np.arange(-5, 5, 0.25*1)\n",
    "X, Y = np.meshgrid(X, Y)\n",
    "R = np.sqrt(X**2 + Y**2)\n",
    "Z = np.sin(R)"
   ]
  },
  {
   "cell_type": "code",
   "execution_count": null,
   "metadata": {},
   "outputs": [],
   "source": [
    "from matplotlib import cm\n",
    "colormap = cm.coolwarm\n",
    "znorm = Z - Z.min()\n",
    "znorm /= znorm.ptp()\n",
    "znorm.min(), znorm.max()\n",
    "color = colormap(znorm)"
   ]
  },
  {
   "cell_type": "code",
   "execution_count": null,
   "metadata": {
    "scrolled": false
   },
   "outputs": [],
   "source": [
    "ipv.figure()\n",
    "mesh = ipv.plot_surface(X, Z, Y, color=color[...,:3])\n",
    "ipv.show()"
   ]
  },
  {
   "cell_type": "markdown",
   "metadata": {},
   "source": [
    "## Texture mapping\n",
    "Texture mapping can be done by providing a [PIL](https://pillow.readthedocs.io) image, and UV coordiante (texture coordinates, between 0 and 1). Note that like almost anything in ipyvolume, these u & v coordinates can be animated, as well as the textures."
   ]
  },
  {
   "cell_type": "code",
   "execution_count": null,
   "metadata": {},
   "outputs": [],
   "source": [
    "# import PIL.Image\n",
    "# image = PIL.Image.open('data/jupyter.png')"
   ]
  },
  {
   "cell_type": "code",
   "execution_count": null,
   "metadata": {},
   "outputs": [],
   "source": [
    "# fig = p3.figure()\n",
    "# p3.style.use('dark')\n",
    "# # we create a sequence of 8 u v coordinates so that the texture moves across the surface.\n",
    "# u = np.array([X/5 +np.sin(k/8*np.pi)*4. for k in range(8)])\n",
    "# v = np.array([-Y/5*(1-k/7.) + Z*(k/7.) for k in range(8)])\n",
    "# mesh = p3.plot_mesh(X, Z, Y, u=u, v=v, texture=image, wireframe=False)\n",
    "# p3.animation_control(mesh, interval=800, sequence_length=8)\n",
    "# p3.show()"
   ]
  },
  {
   "cell_type": "markdown",
   "metadata": {},
   "source": [
    "We now make a small movie / animated gif of 30 frames."
   ]
  },
  {
   "cell_type": "code",
   "execution_count": null,
   "metadata": {},
   "outputs": [],
   "source": [
    "# frames = 30\n",
    "# p3.movie('movie.gif', frames=frames)"
   ]
  },
  {
   "cell_type": "markdown",
   "metadata": {},
   "source": [
    "And play that movie on a square"
   ]
  },
  {
   "cell_type": "code",
   "execution_count": null,
   "metadata": {},
   "outputs": [],
   "source": [
    "# p3.figure()\n",
    "# x = np.array([-1.,  1,  1,  -1])\n",
    "# y = np.array([-1,  -1, 1., 1])\n",
    "# z = np.array([0., 0, 0., 0])\n",
    "# u = x / 2 + 0.5\n",
    "# v = y / 2 + 0.5\n",
    "# # square\n",
    "# triangles = [(0, 1, 2), (0, 2, 3)]\n",
    "# m = p3.plot_trisurf(x, y, z, triangles=triangles, u=u, v=v, texture=PIL.Image.open('movie.gif'))\n",
    "# p3.animation_control(m, sequence_length=frames)\n",
    "# p3.show()"
   ]
  },
  {
   "cell_type": "markdown",
   "metadata": {},
   "source": [
    "[screenshot](screenshot/mesh.png)"
   ]
  }
 ],
 "metadata": {
  "anaconda-cloud": {},
  "kernelspec": {
   "display_name": "Python 3",
   "language": "python",
   "name": "python3"
  },
  "language_info": {
   "codemirror_mode": {
    "name": "ipython",
    "version": 3
   },
   "file_extension": ".py",
   "mimetype": "text/x-python",
   "name": "python",
   "nbconvert_exporter": "python",
   "pygments_lexer": "ipython3",
   "version": "3.7.3"
  }
 },
 "nbformat": 4,
 "nbformat_minor": 2
}
